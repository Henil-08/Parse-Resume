{
 "cells": [
  {
   "cell_type": "code",
   "execution_count": 1,
   "id": "3136cda3-2afa-45ee-b016-449fe8dde6c1",
   "metadata": {
    "tags": []
   },
   "outputs": [
    {
     "name": "stderr",
     "output_type": "stream",
     "text": [
      "/Users/zankhanamehta/Documents/NEU/NLP/Parse-Resume-main/.venv/lib/python3.10/site-packages/tqdm/auto.py:21: TqdmWarning: IProgress not found. Please update jupyter and ipywidgets. See https://ipywidgets.readthedocs.io/en/stable/user_install.html\n",
      "  from .autonotebook import tqdm as notebook_tqdm\n"
     ]
    }
   ],
   "source": [
    "import numpy as np\n",
    "import pandas as pd\n",
    "\n",
    "import re\n",
    "import string \n",
    "import contractions \n",
    "\n",
    "from tqdm import tqdm\n",
    "tqdm.pandas(desc=\"Progress Bar\")\n",
    "\n",
    "import torch\n",
    "from datasets import load_dataset\n",
    "from transformers import DistilBertTokenizer, DistilBertModel\n",
    "from sklearn.metrics.pairwise import cosine_similarity"
   ]
  },
  {
   "cell_type": "markdown",
   "id": "9e669896-f8d4-4f63-905f-d8099646605c",
   "metadata": {},
   "source": [
    "## Loading JD Data"
   ]
  },
  {
   "cell_type": "code",
   "execution_count": 2,
   "id": "8a69dba4-c7e1-4a30-9088-586a0617bfb5",
   "metadata": {
    "tags": []
   },
   "outputs": [
    {
     "data": {
      "text/plain": [
       "Dataset({\n",
       "    features: ['company_name', 'job_description', 'position_title', 'description_length', 'model_response'],\n",
       "    num_rows: 853\n",
       "})"
      ]
     },
     "execution_count": 2,
     "metadata": {},
     "output_type": "execute_result"
    }
   ],
   "source": [
    "jd_data = load_dataset('jacob-hugging-face/job-descriptions', split=\"train\")\n",
    "jd_data"
   ]
  },
  {
   "cell_type": "code",
   "execution_count": 3,
   "id": "0631d48c-94c8-4f28-9bbb-2457c060af1a",
   "metadata": {
    "tags": []
   },
   "outputs": [
    {
     "data": {
      "text/html": [
       "<div>\n",
       "<style scoped>\n",
       "    .dataframe tbody tr th:only-of-type {\n",
       "        vertical-align: middle;\n",
       "    }\n",
       "\n",
       "    .dataframe tbody tr th {\n",
       "        vertical-align: top;\n",
       "    }\n",
       "\n",
       "    .dataframe thead th {\n",
       "        text-align: right;\n",
       "    }\n",
       "</style>\n",
       "<table border=\"1\" class=\"dataframe\">\n",
       "  <thead>\n",
       "    <tr style=\"text-align: right;\">\n",
       "      <th></th>\n",
       "      <th>company_name</th>\n",
       "      <th>job_description</th>\n",
       "      <th>position_title</th>\n",
       "      <th>description_length</th>\n",
       "      <th>model_response</th>\n",
       "    </tr>\n",
       "  </thead>\n",
       "  <tbody>\n",
       "    <tr>\n",
       "      <th>0</th>\n",
       "      <td>Google</td>\n",
       "      <td>minimum qualifications\\nbachelors degree or eq...</td>\n",
       "      <td>Sales Specialist</td>\n",
       "      <td>2727</td>\n",
       "      <td>{\\n  \"Core Responsibilities\": \"Responsible fo...</td>\n",
       "    </tr>\n",
       "    <tr>\n",
       "      <th>1</th>\n",
       "      <td>Apple</td>\n",
       "      <td>description\\nas an asc you will be highly infl...</td>\n",
       "      <td>Apple Solutions Consultant</td>\n",
       "      <td>828</td>\n",
       "      <td>{\\n  \"Core Responsibilities\": \"as an asc you ...</td>\n",
       "    </tr>\n",
       "    <tr>\n",
       "      <th>2</th>\n",
       "      <td>Netflix</td>\n",
       "      <td>its an amazing time to be joining netflix as w...</td>\n",
       "      <td>Licensing Coordinator - Consumer Products</td>\n",
       "      <td>3205</td>\n",
       "      <td>{\\n  \"Core Responsibilities\": \"Help drive bus...</td>\n",
       "    </tr>\n",
       "    <tr>\n",
       "      <th>3</th>\n",
       "      <td>Robert Half</td>\n",
       "      <td>description\\n\\nweb designers looking to expand...</td>\n",
       "      <td>Web Designer</td>\n",
       "      <td>2489</td>\n",
       "      <td>{\\n  \"Core Responsibilities\": \"Designing webs...</td>\n",
       "    </tr>\n",
       "    <tr>\n",
       "      <th>4</th>\n",
       "      <td>TrackFive</td>\n",
       "      <td>at trackfive weve got big goals were on a miss...</td>\n",
       "      <td>Web Developer</td>\n",
       "      <td>3167</td>\n",
       "      <td>{\\n  \"Core Responsibilities\": \"Build and layo...</td>\n",
       "    </tr>\n",
       "  </tbody>\n",
       "</table>\n",
       "</div>"
      ],
      "text/plain": [
       "  company_name                                    job_description  \\\n",
       "0       Google  minimum qualifications\\nbachelors degree or eq...   \n",
       "1        Apple  description\\nas an asc you will be highly infl...   \n",
       "2      Netflix  its an amazing time to be joining netflix as w...   \n",
       "3  Robert Half  description\\n\\nweb designers looking to expand...   \n",
       "4    TrackFive  at trackfive weve got big goals were on a miss...   \n",
       "\n",
       "                              position_title  description_length  \\\n",
       "0                           Sales Specialist                2727   \n",
       "1                 Apple Solutions Consultant                 828   \n",
       "2  Licensing Coordinator - Consumer Products                3205   \n",
       "3                               Web Designer                2489   \n",
       "4                              Web Developer                3167   \n",
       "\n",
       "                                      model_response  \n",
       "0   {\\n  \"Core Responsibilities\": \"Responsible fo...  \n",
       "1   {\\n  \"Core Responsibilities\": \"as an asc you ...  \n",
       "2   {\\n  \"Core Responsibilities\": \"Help drive bus...  \n",
       "3   {\\n  \"Core Responsibilities\": \"Designing webs...  \n",
       "4   {\\n  \"Core Responsibilities\": \"Build and layo...  "
      ]
     },
     "execution_count": 3,
     "metadata": {},
     "output_type": "execute_result"
    }
   ],
   "source": [
    "jd_df = pd.DataFrame(jd_data)\n",
    "jd_df.head()"
   ]
  },
  {
   "cell_type": "code",
   "execution_count": 4,
   "id": "49f15549-f74e-4109-8e05-8499a528fd77",
   "metadata": {
    "scrolled": true,
    "tags": []
   },
   "outputs": [
    {
     "name": "stdout",
     "output_type": "stream",
     "text": [
      "minimum qualifications\n",
      "bachelors degree or equivalent practical experience years of experience in saas or productivity tools businessexperience managing enterprise accounts with sales cycles\n",
      "preferred qualifications\n",
      " years of experience building strategic business partnerships with enterprise customersability to work through and with a reseller ecosystem to scale the businessability to plan pitch and execute a territory business strategyability to build relationships and to deliver results in a crossfunctionalmatrixed environmentability to identify crosspromoting and uppromoting opportunities within the existing account baseexcellent account management writtenverbal communication strategic and analyticalthinking skills\n",
      "about the job\n",
      "as a member of the google cloud team you inspire leading companies schools and government agencies to work smarter with google tools like google workspace search and chrome you advocate the innovative power of our products to make organizations more productive collaborative and mobile your guiding light is doing whats right for the customer you will meet customers exactly where they are at and provide them the best solutions for innovation using your passion for google products you help spread the magic of google to organizations around the world\n",
      "the google workspace team helps customers transform and evolve their business through the use of googles productivity collaboration and content management suite of applications as part of an entrepreneurial team in this growing business you will help shape the future of businesses use technology to connect with customers employees and partners\n",
      "as a google workspace sales specialist you will be responsible for maintenance and expansion of google workspace business growth across the region with customers in this role youll create and execute the strategy and provide unique insights on applying google workspace solutions to enterprisesyou will build an excellent pipeline and work with the account teams to build out the customer solution and establish partnerships you will strategize with partners to increase account and territory business growth you will work directly with customers coordinate internal resources and construct successful strategies at account and territory level\n",
      "google cloud accelerates organizations ability to digitally transform their business with the best infrastructure platform industry solutions and expertise we deliver enterprisegrade solutions that leverage googles cuttingedge technology  all on the cleanest cloud in the industry customers in more than  countries and territories turn to google cloud as their trusted partner to enable growth and solve their most critical business problems\n"
     ]
    }
   ],
   "source": [
    "# Sample JD\n",
    "\n",
    "# jd_df['model_response'][0]\n",
    "print(jd_df['job_description'][0])"
   ]
  },
  {
   "cell_type": "markdown",
   "id": "89b1d16a-e859-4256-b83a-525f0a780749",
   "metadata": {},
   "source": [
    "## Loading Extracted CV Data"
   ]
  },
  {
   "cell_type": "code",
   "execution_count": 5,
   "id": "d36e68a3-c01e-4159-82da-58572a65d61a",
   "metadata": {
    "tags": []
   },
   "outputs": [
    {
     "data": {
      "text/html": [
       "<div>\n",
       "<style scoped>\n",
       "    .dataframe tbody tr th:only-of-type {\n",
       "        vertical-align: middle;\n",
       "    }\n",
       "\n",
       "    .dataframe tbody tr th {\n",
       "        vertical-align: top;\n",
       "    }\n",
       "\n",
       "    .dataframe thead th {\n",
       "        text-align: right;\n",
       "    }\n",
       "</style>\n",
       "<table border=\"1\" class=\"dataframe\">\n",
       "  <thead>\n",
       "    <tr style=\"text-align: right;\">\n",
       "      <th></th>\n",
       "      <th>Skills</th>\n",
       "      <th>Education</th>\n",
       "      <th>ID</th>\n",
       "      <th>Category</th>\n",
       "    </tr>\n",
       "  </thead>\n",
       "  <tbody>\n",
       "    <tr>\n",
       "      <th>0</th>\n",
       "      <td>Excellent classroom managementÂ</td>\n",
       "      <td>Subject Matter Authorization in Science: Scien...</td>\n",
       "      <td>37201447</td>\n",
       "      <td>AGRICULTURE</td>\n",
       "    </tr>\n",
       "    <tr>\n",
       "      <th>1</th>\n",
       "      <td>Team mediation, Budget Management, Delegation ...</td>\n",
       "      <td>2009 Howard University ï¼​ City , State , USA ...</td>\n",
       "      <td>12674256</td>\n",
       "      <td>AGRICULTURE</td>\n",
       "    </tr>\n",
       "    <tr>\n",
       "      <th>2</th>\n",
       "      <td>COMPUTER LITERACY, E-mail, English, government...</td>\n",
       "      <td>2011\\nThe Universty of Zambia ï¼​ City , State...</td>\n",
       "      <td>29968330</td>\n",
       "      <td>AGRICULTURE</td>\n",
       "    </tr>\n",
       "    <tr>\n",
       "      <th>3</th>\n",
       "      <td>C, C++, communication skills, designing, ELISA...</td>\n",
       "      <td>Masters of Science , Biotechnology 5 2013 Univ...</td>\n",
       "      <td>81042872</td>\n",
       "      <td>AGRICULTURE</td>\n",
       "    </tr>\n",
       "    <tr>\n",
       "      <th>4</th>\n",
       "      <td>Data Entry, Printers, Clients, Loans, Tax Retu...</td>\n",
       "      <td>Wayne State University 2013 MBA : Linguistics ...</td>\n",
       "      <td>20006992</td>\n",
       "      <td>AGRICULTURE</td>\n",
       "    </tr>\n",
       "  </tbody>\n",
       "</table>\n",
       "</div>"
      ],
      "text/plain": [
       "                                              Skills  \\\n",
       "0                    Excellent classroom managementÂ   \n",
       "1  Team mediation, Budget Management, Delegation ...   \n",
       "2  COMPUTER LITERACY, E-mail, English, government...   \n",
       "3  C, C++, communication skills, designing, ELISA...   \n",
       "4  Data Entry, Printers, Clients, Loans, Tax Retu...   \n",
       "\n",
       "                                           Education        ID     Category  \n",
       "0  Subject Matter Authorization in Science: Scien...  37201447  AGRICULTURE  \n",
       "1  2009 Howard University ï¼​ City , State , USA ...  12674256  AGRICULTURE  \n",
       "2  2011\\nThe Universty of Zambia ï¼​ City , State...  29968330  AGRICULTURE  \n",
       "3  Masters of Science , Biotechnology 5 2013 Univ...  81042872  AGRICULTURE  \n",
       "4  Wayne State University 2013 MBA : Linguistics ...  20006992  AGRICULTURE  "
      ]
     },
     "execution_count": 5,
     "metadata": {},
     "output_type": "execute_result"
    }
   ],
   "source": [
    "df = pd.read_csv('data/extracted_resume.csv')\n",
    "df.head()"
   ]
  },
  {
   "cell_type": "code",
   "execution_count": 6,
   "id": "172adcaa-33f0-45c4-96d1-9873f8dc8d3d",
   "metadata": {
    "tags": []
   },
   "outputs": [
    {
     "data": {
      "text/plain": [
       "(2484, 4)"
      ]
     },
     "execution_count": 6,
     "metadata": {},
     "output_type": "execute_result"
    }
   ],
   "source": [
    "df.shape"
   ]
  },
  {
   "cell_type": "markdown",
   "id": "2c1b50a2-7e49-44d5-bbfe-3b2793045eff",
   "metadata": {},
   "source": [
    "## Basic text cleaning\n",
    "\n",
    "And doing some preprocessing in the data as discussed in the EDA notebook"
   ]
  },
  {
   "cell_type": "code",
   "execution_count": 7,
   "id": "562a127d-840b-4962-afaf-8e40ca155908",
   "metadata": {
    "tags": []
   },
   "outputs": [],
   "source": [
    "def text_cleaning(text:str) -> str:\n",
    "    if pd.isnull(text):\n",
    "        return\n",
    "    \n",
    "    # lower-case everything\n",
    "    text = text.lower().strip()\n",
    "    \n",
    "    # For removing puctuations\n",
    "    translator = str.maketrans('', '', string.punctuation)\n",
    "    \n",
    "    # expand all the short-form words\n",
    "    text = contractions.fix(text)\n",
    "    \n",
    "    # remove any special chars\n",
    "    text = re.sub(r'http\\S+|www\\S+|https\\S+', '', text) # Remove URLs\n",
    "    text = re.sub(r'\\S+@\\S+', '', text) # Remove emails\n",
    "    text = re.sub(r'\\b\\d{1,3}[-./]?\\d{1,3}[-./]?\\d{1,4}\\b', '', text) # Remove phone numbers\n",
    "    text = text.translate(translator) # Remove puctuations\n",
    "    text = re.sub(r'[^a-zA-Z]', ' ', text) # Remove other non-alphanumeric characters\n",
    "    \n",
    "    return text.strip()"
   ]
  },
  {
   "cell_type": "code",
   "execution_count": 8,
   "id": "15b91c7f-77a8-4b63-9095-351009bc62a0",
   "metadata": {
    "tags": []
   },
   "outputs": [
    {
     "name": "stderr",
     "output_type": "stream",
     "text": [
      "Progress Bar: 100%|██████████| 2469/2469 [00:00<00:00, 18340.36it/s]\n"
     ]
    }
   ],
   "source": [
    "# We have 15 Resumes where Skills & Education were not extracted -- REFER EDA notebook\n",
    "# So, let's remove them\n",
    "cv_df = df[~(df['Skills'].isna() & df['Education'].isna())].reset_index(drop=True)\n",
    "\n",
    "# Filling the null values in Skills & Education with Empty String before concatinating them\n",
    "cv_df = cv_df.fillna(value='')\n",
    "\n",
    "# Let's stitch together Skills & Education, similar to given in job description.\n",
    "cv_df['CV'] = cv_df['Skills'] + ' ' + cv_df['Education']\n",
    "\n",
    "# Doing text cleaning\n",
    "cv_df['CV'] = cv_df['CV'].progress_apply(text_cleaning)"
   ]
  },
  {
   "cell_type": "code",
   "execution_count": 9,
   "id": "d26c39b1-ddff-4782-9816-4a5e25d188d1",
   "metadata": {
    "tags": []
   },
   "outputs": [
    {
     "data": {
      "text/plain": [
       "(2469, 5)"
      ]
     },
     "execution_count": 9,
     "metadata": {},
     "output_type": "execute_result"
    }
   ],
   "source": [
    "cv_df.shape"
   ]
  },
  {
   "cell_type": "code",
   "execution_count": 10,
   "id": "39c8d441-e324-4560-96d9-40ebe21343c2",
   "metadata": {
    "tags": []
   },
   "outputs": [],
   "source": [
    "# Sample job descriptions\n",
    "job_descriptions = jd_df['job_description'].apply(text_cleaning)[:15].to_list() # jd_df['job_description'][:15]\n",
    "\n",
    "# Sample resumes (replace with your extracted resume data)\n",
    "resumes = cv_df['CV'].to_list()"
   ]
  },
  {
   "cell_type": "markdown",
   "id": "ca874cc5-d4bd-4b6b-839e-3382eb71b142",
   "metadata": {},
   "source": [
    "## Creating Embedding using `DistilBertTokenizer`, `DistilBertModel`"
   ]
  },
  {
   "cell_type": "code",
   "execution_count": 11,
   "id": "5d023b6f-64d5-469a-9cdc-f5cbcbf60d70",
   "metadata": {
    "scrolled": true,
    "tags": []
   },
   "outputs": [
    {
     "name": "stderr",
     "output_type": "stream",
     "text": [
      "/Users/zankhanamehta/Documents/NEU/NLP/Parse-Resume-main/.venv/lib/python3.10/site-packages/huggingface_hub/file_download.py:896: FutureWarning: `resume_download` is deprecated and will be removed in version 1.0.0. Downloads always resume when possible. If you want to force a new download, use `force_download=True`.\n",
      "  warnings.warn(\n"
     ]
    },
    {
     "name": "stdout",
     "output_type": "stream",
     "text": [
      "CPU times: user 53.5 s, sys: 22.6 s, total: 1min 16s\n",
      "Wall time: 55.9 s\n"
     ]
    }
   ],
   "source": [
    "%%time\n",
    "\n",
    "# Initialize the DistilBERT tokenizer and model\n",
    "tokenizer = DistilBertTokenizer.from_pretrained('distilbert-base-uncased')\n",
    "model = DistilBertModel.from_pretrained('distilbert-base-uncased')\n",
    "\n",
    "\n",
    "# Tokenize and embed job descriptions\n",
    "job_description_embeddings = []\n",
    "for description in job_descriptions:\n",
    "    tokens = tokenizer(description, padding=True, truncation=True, return_tensors='pt')\n",
    "    with torch.no_grad():\n",
    "        output = model(**tokens)\n",
    "    embeddings = output.last_hidden_state.mean(dim=1).numpy()\n",
    "    job_description_embeddings.append(embeddings[0])  # Flatten the embeddings to 1D\n",
    "\n",
    "# Tokenize and embed resumes\n",
    "resume_embeddings = []\n",
    "for resume in resumes:\n",
    "    tokens = tokenizer(resume, padding=True, truncation=True, return_tensors='pt')\n",
    "    with torch.no_grad():\n",
    "        output = model(**tokens)\n",
    "    embeddings = output.last_hidden_state.mean(dim=1).numpy()\n",
    "    resume_embeddings.append(embeddings[0])  # Flatten the embeddings to 1D"
   ]
  },
  {
   "cell_type": "code",
   "execution_count": 12,
   "id": "4186de99-7674-4821-ba16-a3dcd22ef709",
   "metadata": {
    "tags": []
   },
   "outputs": [
    {
     "data": {
      "text/plain": [
       "((768,), (768,))"
      ]
     },
     "execution_count": 12,
     "metadata": {},
     "output_type": "execute_result"
    }
   ],
   "source": [
    "job_description_embeddings[0].shape, resume_embeddings[0].shape"
   ]
  },
  {
   "cell_type": "code",
   "execution_count": 13,
   "id": "d5673e56-c1cc-493a-8c9f-bd0385bd8ab8",
   "metadata": {
    "tags": []
   },
   "outputs": [
    {
     "data": {
      "text/plain": [
       "(15, 2469)"
      ]
     },
     "execution_count": 13,
     "metadata": {},
     "output_type": "execute_result"
    }
   ],
   "source": [
    "len(job_description_embeddings), len(resume_embeddings)"
   ]
  },
  {
   "cell_type": "markdown",
   "id": "e9f43098-36fc-43f0-b3b1-2d728f4d058d",
   "metadata": {},
   "source": [
    "## Calculating Similarity Score & Getting Top 5 Candidates"
   ]
  },
  {
   "cell_type": "code",
   "execution_count": 14,
   "id": "9787975e-d89f-475c-971f-a0a79f36cee3",
   "metadata": {
    "scrolled": true,
    "tags": []
   },
   "outputs": [
    {
     "data": {
      "text/plain": [
       "array([[0.78798974, 0.8061505 , 0.78997135, ..., 0.72221214, 0.7781182 ,\n",
       "        0.6956936 ],\n",
       "       [0.7847351 , 0.8249048 , 0.7690108 , ..., 0.702317  , 0.77627593,\n",
       "        0.70129955],\n",
       "       [0.77788216, 0.78859985, 0.79538816, ..., 0.7024075 , 0.7763267 ,\n",
       "        0.7020688 ],\n",
       "       ...,\n",
       "       [0.80130345, 0.7965963 , 0.7934847 , ..., 0.7281854 , 0.7757018 ,\n",
       "        0.71121   ],\n",
       "       [0.8347737 , 0.8271105 , 0.8366688 , ..., 0.8582534 , 0.8394397 ,\n",
       "        0.7662347 ],\n",
       "       [0.81139696, 0.80865467, 0.819006  , ..., 0.74138117, 0.78684676,\n",
       "        0.7175248 ]], dtype=float32)"
      ]
     },
     "execution_count": 14,
     "metadata": {},
     "output_type": "execute_result"
    }
   ],
   "source": [
    "# Calculate cosine similarity between job descriptions and resumes\n",
    "similarity_scores = cosine_similarity(job_description_embeddings, resume_embeddings)\n",
    "similarity_scores"
   ]
  },
  {
   "cell_type": "code",
   "execution_count": 15,
   "id": "8ac47a3b-0fb4-4139-a409-046bf9ec1d63",
   "metadata": {
    "tags": []
   },
   "outputs": [
    {
     "name": "stdout",
     "output_type": "stream",
     "text": [
      "Top candidates for JD 1 - Postition: Sales Specialist\n",
      "  Candidate 1374 - Similarity Score: 0.9415 - HR/18827609.pdf\n",
      "  Candidate 50 - Similarity Score: 0.9388 - AGRICULTURE/62994611.pdf\n",
      "  Candidate 125 - Similarity Score: 0.9387 - ARTS/43622023.pdf\n",
      "  Candidate 1160 - Similarity Score: 0.9377 - ACCOUNTANT/16237710.pdf\n",
      "  Candidate 661 - Similarity Score: 0.9314 - HEALTHCARE/10466208.pdf\n",
      "  Candidate 1358 - Similarity Score: 0.9307 - HR/27165830.pdf\n",
      "  Candidate 754 - Similarity Score: 0.9303 - PUBLIC-RELATIONS/12237267.pdf\n",
      "  Candidate 73 - Similarity Score: 0.9269 - ARTS/12413512.pdf\n",
      "  Candidate 1402 - Similarity Score: 0.9258 - HR/21830565.pdf\n",
      "  Candidate 2169 - Similarity Score: 0.9258 - ADVOCATE/18090899.pdf\n",
      "\n",
      "Top candidates for JD 2 - Postition: Apple Solutions Consultant\n",
      "  Candidate 2112 - Similarity Score: 0.9236 - ADVOCATE/22391901.pdf\n",
      "  Candidate 1944 - Similarity Score: 0.9165 - BUSINESS-DEVELOPMENT/95382114.pdf\n",
      "  Candidate 1799 - Similarity Score: 0.9159 - FITNESS/21238396.pdf\n",
      "  Candidate 582 - Similarity Score: 0.9155 - CHEF/21869994.pdf\n",
      "  Candidate 102 - Similarity Score: 0.9146 - ARTS/54100393.pdf\n",
      "  Candidate 2449 - Similarity Score: 0.9080 - AUTOMOBILE/91515108.pdf\n",
      "  Candidate 663 - Similarity Score: 0.9076 - HEALTHCARE/35579812.pdf\n",
      "  Candidate 1943 - Similarity Score: 0.9060 - BUSINESS-DEVELOPMENT/67501448.pdf\n",
      "  Candidate 227 - Similarity Score: 0.9056 - SALES/29184740.pdf\n",
      "  Candidate 1625 - Similarity Score: 0.9046 - DESIGNER/26790545.pdf\n",
      "\n",
      "Top candidates for JD 3 - Postition: Licensing Coordinator - Consumer Products\n",
      "  Candidate 125 - Similarity Score: 0.9598 - ARTS/43622023.pdf\n",
      "  Candidate 754 - Similarity Score: 0.9496 - PUBLIC-RELATIONS/12237267.pdf\n",
      "  Candidate 297 - Similarity Score: 0.9458 - CONSULTANT/26234972.pdf\n",
      "  Candidate 244 - Similarity Score: 0.9440 - SALES/15620421.pdf\n",
      "  Candidate 661 - Similarity Score: 0.9428 - HEALTHCARE/10466208.pdf\n",
      "  Candidate 1374 - Similarity Score: 0.9423 - HR/18827609.pdf\n",
      "  Candidate 370 - Similarity Score: 0.9409 - CONSULTANT/15119529.pdf\n",
      "  Candidate 1402 - Similarity Score: 0.9399 - HR/21830565.pdf\n",
      "  Candidate 225 - Similarity Score: 0.9393 - SALES/17410700.pdf\n",
      "  Candidate 1358 - Similarity Score: 0.9390 - HR/27165830.pdf\n",
      "\n",
      "Top candidates for JD 4 - Postition: Web Designer\n",
      "  Candidate 1577 - Similarity Score: 0.9487 - DESIGNER/18979238.pdf\n",
      "  Candidate 1374 - Similarity Score: 0.9438 - HR/18827609.pdf\n",
      "  Candidate 125 - Similarity Score: 0.9380 - ARTS/43622023.pdf\n",
      "  Candidate 539 - Similarity Score: 0.9357 - CHEF/53265899.pdf\n",
      "  Candidate 2216 - Similarity Score: 0.9341 - TEACHER/37660306.pdf\n",
      "  Candidate 1408 - Similarity Score: 0.9332 - HR/32896934.pdf\n",
      "  Candidate 1551 - Similarity Score: 0.9322 - DESIGNER/36269672.pdf\n",
      "  Candidate 50 - Similarity Score: 0.9319 - AGRICULTURE/62994611.pdf\n",
      "  Candidate 1402 - Similarity Score: 0.9315 - HR/21830565.pdf\n",
      "  Candidate 145 - Similarity Score: 0.9310 - ARTS/34146825.pdf\n",
      "\n",
      "Top candidates for JD 5 - Postition: Web Developer\n",
      "  Candidate 50 - Similarity Score: 0.9501 - AGRICULTURE/62994611.pdf\n",
      "  Candidate 125 - Similarity Score: 0.9465 - ARTS/43622023.pdf\n",
      "  Candidate 1577 - Similarity Score: 0.9446 - DESIGNER/18979238.pdf\n",
      "  Candidate 470 - Similarity Score: 0.9408 - DIGITAL-MEDIA/14761906.pdf\n",
      "  Candidate 1374 - Similarity Score: 0.9378 - HR/18827609.pdf\n",
      "  Candidate 102 - Similarity Score: 0.9366 - ARTS/54100393.pdf\n",
      "  Candidate 1551 - Similarity Score: 0.9362 - DESIGNER/36269672.pdf\n",
      "  Candidate 539 - Similarity Score: 0.9360 - CHEF/53265899.pdf\n",
      "  Candidate 145 - Similarity Score: 0.9344 - ARTS/34146825.pdf\n",
      "  Candidate 277 - Similarity Score: 0.9322 - SALES/22319662.pdf\n",
      "\n",
      "Top candidates for JD 6 - Postition: Frontend Web Developer\n",
      "  Candidate 1551 - Similarity Score: 0.9255 - DESIGNER/36269672.pdf\n",
      "  Candidate 1799 - Similarity Score: 0.9244 - FITNESS/21238396.pdf\n",
      "  Candidate 451 - Similarity Score: 0.9191 - DIGITAL-MEDIA/11270462.pdf\n",
      "  Candidate 273 - Similarity Score: 0.9169 - SALES/10464113.pdf\n",
      "  Candidate 102 - Similarity Score: 0.9167 - ARTS/54100393.pdf\n",
      "  Candidate 1577 - Similarity Score: 0.9154 - DESIGNER/18979238.pdf\n",
      "  Candidate 470 - Similarity Score: 0.9142 - DIGITAL-MEDIA/14761906.pdf\n",
      "  Candidate 242 - Similarity Score: 0.9138 - SALES/17509935.pdf\n",
      "  Candidate 104 - Similarity Score: 0.9110 - ARTS/30594821.pdf\n",
      "  Candidate 227 - Similarity Score: 0.9107 - SALES/29184740.pdf\n",
      "\n",
      "Top candidates for JD 7 - Postition: Remote Website Designer\n",
      "  Candidate 125 - Similarity Score: 0.9613 - ARTS/43622023.pdf\n",
      "  Candidate 1374 - Similarity Score: 0.9590 - HR/18827609.pdf\n",
      "  Candidate 754 - Similarity Score: 0.9581 - PUBLIC-RELATIONS/12237267.pdf\n",
      "  Candidate 1358 - Similarity Score: 0.9579 - HR/27165830.pdf\n",
      "  Candidate 50 - Similarity Score: 0.9574 - AGRICULTURE/62994611.pdf\n",
      "  Candidate 1402 - Similarity Score: 0.9572 - HR/21830565.pdf\n",
      "  Candidate 370 - Similarity Score: 0.9518 - CONSULTANT/15119529.pdf\n",
      "  Candidate 277 - Similarity Score: 0.9514 - SALES/22319662.pdf\n",
      "  Candidate 2418 - Similarity Score: 0.9512 - ENGINEERING/82125182.pdf\n",
      "  Candidate 622 - Similarity Score: 0.9509 - HEALTHCARE/58879993.pdf\n",
      "\n",
      "Top candidates for JD 8 - Postition: Web Designer\n",
      "  Candidate 125 - Similarity Score: 0.9577 - ARTS/43622023.pdf\n",
      "  Candidate 1374 - Similarity Score: 0.9530 - HR/18827609.pdf\n",
      "  Candidate 754 - Similarity Score: 0.9480 - PUBLIC-RELATIONS/12237267.pdf\n",
      "  Candidate 1402 - Similarity Score: 0.9478 - HR/21830565.pdf\n",
      "  Candidate 102 - Similarity Score: 0.9469 - ARTS/54100393.pdf\n",
      "  Candidate 50 - Similarity Score: 0.9467 - AGRICULTURE/62994611.pdf\n",
      "  Candidate 661 - Similarity Score: 0.9451 - HEALTHCARE/10466208.pdf\n",
      "  Candidate 1551 - Similarity Score: 0.9447 - DESIGNER/36269672.pdf\n",
      "  Candidate 1358 - Similarity Score: 0.9438 - HR/27165830.pdf\n",
      "  Candidate 470 - Similarity Score: 0.9436 - DIGITAL-MEDIA/14761906.pdf\n",
      "\n",
      "Top candidates for JD 9 - Postition: Web Designer\n",
      "  Candidate 50 - Similarity Score: 0.9542 - AGRICULTURE/62994611.pdf\n",
      "  Candidate 1374 - Similarity Score: 0.9494 - HR/18827609.pdf\n",
      "  Candidate 125 - Similarity Score: 0.9493 - ARTS/43622023.pdf\n",
      "  Candidate 370 - Similarity Score: 0.9447 - CONSULTANT/15119529.pdf\n",
      "  Candidate 786 - Similarity Score: 0.9434 - PUBLIC-RELATIONS/16620172.pdf\n",
      "  Candidate 470 - Similarity Score: 0.9432 - DIGITAL-MEDIA/14761906.pdf\n",
      "  Candidate 297 - Similarity Score: 0.9415 - CONSULTANT/26234972.pdf\n",
      "  Candidate 1577 - Similarity Score: 0.9406 - DESIGNER/18979238.pdf\n",
      "  Candidate 277 - Similarity Score: 0.9393 - SALES/22319662.pdf\n",
      "  Candidate 754 - Similarity Score: 0.9392 - PUBLIC-RELATIONS/12237267.pdf\n",
      "\n",
      "Top candidates for JD 10 - Postition: SR. Web Designer\n",
      "  Candidate 2418 - Similarity Score: 0.9600 - ENGINEERING/82125182.pdf\n",
      "  Candidate 50 - Similarity Score: 0.9570 - AGRICULTURE/62994611.pdf\n",
      "  Candidate 1402 - Similarity Score: 0.9540 - HR/21830565.pdf\n",
      "  Candidate 1358 - Similarity Score: 0.9518 - HR/27165830.pdf\n",
      "  Candidate 1374 - Similarity Score: 0.9490 - HR/18827609.pdf\n",
      "  Candidate 1769 - Similarity Score: 0.9488 - FITNESS/29792535.pdf\n",
      "  Candidate 2344 - Similarity Score: 0.9483 - ENGINEERING/12518008.pdf\n",
      "  Candidate 2110 - Similarity Score: 0.9479 - ADVOCATE/23577836.pdf\n",
      "  Candidate 622 - Similarity Score: 0.9472 - HEALTHCARE/58879993.pdf\n",
      "  Candidate 1749 - Similarity Score: 0.9466 - FITNESS/34792238.pdf\n",
      "\n",
      "Top candidates for JD 11 - Postition: Web Developer\n",
      "  Candidate 1374 - Similarity Score: 0.9611 - HR/18827609.pdf\n",
      "  Candidate 50 - Similarity Score: 0.9564 - AGRICULTURE/62994611.pdf\n",
      "  Candidate 370 - Similarity Score: 0.9562 - CONSULTANT/15119529.pdf\n",
      "  Candidate 754 - Similarity Score: 0.9556 - PUBLIC-RELATIONS/12237267.pdf\n",
      "  Candidate 277 - Similarity Score: 0.9531 - SALES/22319662.pdf\n",
      "  Candidate 1284 - Similarity Score: 0.9527 - INFORMATION-TECHNOLOGY/11957080.pdf\n",
      "  Candidate 1402 - Similarity Score: 0.9516 - HR/21830565.pdf\n",
      "  Candidate 786 - Similarity Score: 0.9508 - PUBLIC-RELATIONS/16620172.pdf\n",
      "  Candidate 2418 - Similarity Score: 0.9504 - ENGINEERING/82125182.pdf\n",
      "  Candidate 622 - Similarity Score: 0.9498 - HEALTHCARE/58879993.pdf\n",
      "\n",
      "Top candidates for JD 12 - Postition: Web Developer\n",
      "  Candidate 125 - Similarity Score: 0.9592 - ARTS/43622023.pdf\n",
      "  Candidate 145 - Similarity Score: 0.9465 - ARTS/34146825.pdf\n",
      "  Candidate 1577 - Similarity Score: 0.9449 - DESIGNER/18979238.pdf\n",
      "  Candidate 50 - Similarity Score: 0.9448 - AGRICULTURE/62994611.pdf\n",
      "  Candidate 1374 - Similarity Score: 0.9433 - HR/18827609.pdf\n",
      "  Candidate 1551 - Similarity Score: 0.9427 - DESIGNER/36269672.pdf\n",
      "  Candidate 102 - Similarity Score: 0.9419 - ARTS/54100393.pdf\n",
      "  Candidate 539 - Similarity Score: 0.9411 - CHEF/53265899.pdf\n",
      "  Candidate 1402 - Similarity Score: 0.9404 - HR/21830565.pdf\n",
      "  Candidate 244 - Similarity Score: 0.9390 - SALES/15620421.pdf\n",
      "\n",
      "Top candidates for JD 13 - Postition: Senior UI Designer\n",
      "  Candidate 125 - Similarity Score: 0.9459 - ARTS/43622023.pdf\n",
      "  Candidate 1577 - Similarity Score: 0.9446 - DESIGNER/18979238.pdf\n",
      "  Candidate 1374 - Similarity Score: 0.9428 - HR/18827609.pdf\n",
      "  Candidate 50 - Similarity Score: 0.9390 - AGRICULTURE/62994611.pdf\n",
      "  Candidate 1551 - Similarity Score: 0.9375 - DESIGNER/36269672.pdf\n",
      "  Candidate 102 - Similarity Score: 0.9370 - ARTS/54100393.pdf\n",
      "  Candidate 297 - Similarity Score: 0.9363 - CONSULTANT/26234972.pdf\n",
      "  Candidate 470 - Similarity Score: 0.9350 - DIGITAL-MEDIA/14761906.pdf\n",
      "  Candidate 1160 - Similarity Score: 0.9350 - ACCOUNTANT/16237710.pdf\n",
      "  Candidate 73 - Similarity Score: 0.9327 - ARTS/12413512.pdf\n",
      "\n",
      "Top candidates for JD 14 - Postition: Wordpress Web Developer\n",
      "  Candidate 1625 - Similarity Score: 0.9450 - DESIGNER/26790545.pdf\n",
      "  Candidate 1216 - Similarity Score: 0.9286 - INFORMATION-TECHNOLOGY/26768723.pdf\n",
      "  Candidate 330 - Similarity Score: 0.9286 - CONSULTANT/65062795.pdf\n",
      "  Candidate 420 - Similarity Score: 0.9174 - DIGITAL-MEDIA/27981289.pdf\n",
      "  Candidate 41 - Similarity Score: 0.9129 - AGRICULTURE/11676151.pdf\n",
      "  Candidate 2102 - Similarity Score: 0.9123 - ADVOCATE/32965335.pdf\n",
      "  Candidate 1553 - Similarity Score: 0.9112 - DESIGNER/44145704.pdf\n",
      "  Candidate 2265 - Similarity Score: 0.9105 - TEACHER/27798860.pdf\n",
      "  Candidate 1283 - Similarity Score: 0.9095 - INFORMATION-TECHNOLOGY/18159866.pdf\n",
      "  Candidate 582 - Similarity Score: 0.9051 - CHEF/21869994.pdf\n",
      "\n",
      "Top candidates for JD 15 - Postition: UI Web Designer\n",
      "  Candidate 102 - Similarity Score: 0.9563 - ARTS/54100393.pdf\n",
      "  Candidate 125 - Similarity Score: 0.9542 - ARTS/43622023.pdf\n",
      "  Candidate 1577 - Similarity Score: 0.9516 - DESIGNER/18979238.pdf\n",
      "  Candidate 50 - Similarity Score: 0.9499 - AGRICULTURE/62994611.pdf\n",
      "  Candidate 73 - Similarity Score: 0.9469 - ARTS/12413512.pdf\n",
      "  Candidate 1551 - Similarity Score: 0.9451 - DESIGNER/36269672.pdf\n",
      "  Candidate 1374 - Similarity Score: 0.9447 - HR/18827609.pdf\n",
      "  Candidate 470 - Similarity Score: 0.9443 - DIGITAL-MEDIA/14761906.pdf\n",
      "  Candidate 1160 - Similarity Score: 0.9442 - ACCOUNTANT/16237710.pdf\n",
      "  Candidate 1621 - Similarity Score: 0.9400 - DESIGNER/26676567.pdf\n",
      "\n"
     ]
    }
   ],
   "source": [
    "# Rank candidates for each job description based on similarity scores\n",
    "num_top_candidates = 10\n",
    "top_candidates = []\n",
    "\n",
    "for i, job_description in enumerate(job_description_embeddings):\n",
    "    candidates_with_scores = list(enumerate(similarity_scores[i]))\n",
    "    candidates_with_scores.sort(key=lambda x: x[1], reverse=True)\n",
    "    top_candidates_for_job = candidates_with_scores[:num_top_candidates]\n",
    "    top_candidates.append(top_candidates_for_job)\n",
    "\n",
    "# Print the top candidates for each job description\n",
    "for i, job_description in enumerate(job_descriptions):\n",
    "    print(f\"Top candidates for JD {i+1} - Postition: {jd_df['position_title'][i]}\")\n",
    "    for candidate_index, score in top_candidates[i]:\n",
    "        print(f\"  Candidate {candidate_index + 1} - Similarity Score: {score:.4f} - {cv_df['Category'][candidate_index]}/{cv_df['ID'][candidate_index]}.pdf\")\n",
    "        # print(f\"  Resume: {resumes[candidate_index]}\")\n",
    "    print()"
   ]
  },
  {
   "cell_type": "code",
   "execution_count": 16,
   "id": "8e2cc45c",
   "metadata": {},
   "outputs": [
    {
     "data": {
      "text/html": [
       "<div>\n",
       "<style scoped>\n",
       "    .dataframe tbody tr th:only-of-type {\n",
       "        vertical-align: middle;\n",
       "    }\n",
       "\n",
       "    .dataframe tbody tr th {\n",
       "        vertical-align: top;\n",
       "    }\n",
       "\n",
       "    .dataframe thead th {\n",
       "        text-align: right;\n",
       "    }\n",
       "</style>\n",
       "<table border=\"1\" class=\"dataframe\">\n",
       "  <thead>\n",
       "    <tr style=\"text-align: right;\">\n",
       "      <th></th>\n",
       "      <th>JD Title</th>\n",
       "      <th>Resume ID</th>\n",
       "      <th>Resume Category</th>\n",
       "      <th>Similarity Score</th>\n",
       "    </tr>\n",
       "  </thead>\n",
       "  <tbody>\n",
       "    <tr>\n",
       "      <th>0</th>\n",
       "      <td>Sales Specialist</td>\n",
       "      <td>18827609</td>\n",
       "      <td>HR</td>\n",
       "      <td>0.941542</td>\n",
       "    </tr>\n",
       "    <tr>\n",
       "      <th>1</th>\n",
       "      <td>Apple Solutions Consultant</td>\n",
       "      <td>22391901</td>\n",
       "      <td>ADVOCATE</td>\n",
       "      <td>0.923647</td>\n",
       "    </tr>\n",
       "    <tr>\n",
       "      <th>2</th>\n",
       "      <td>Licensing Coordinator - Consumer Products</td>\n",
       "      <td>43622023</td>\n",
       "      <td>ARTS</td>\n",
       "      <td>0.959810</td>\n",
       "    </tr>\n",
       "    <tr>\n",
       "      <th>3</th>\n",
       "      <td>Web Designer</td>\n",
       "      <td>18979238</td>\n",
       "      <td>DESIGNER</td>\n",
       "      <td>0.948679</td>\n",
       "    </tr>\n",
       "    <tr>\n",
       "      <th>4</th>\n",
       "      <td>Web Developer</td>\n",
       "      <td>62994611</td>\n",
       "      <td>AGRICULTURE</td>\n",
       "      <td>0.950087</td>\n",
       "    </tr>\n",
       "  </tbody>\n",
       "</table>\n",
       "</div>"
      ],
      "text/plain": [
       "                                    JD Title  Resume ID Resume Category  \\\n",
       "0                           Sales Specialist   18827609              HR   \n",
       "1                 Apple Solutions Consultant   22391901        ADVOCATE   \n",
       "2  Licensing Coordinator - Consumer Products   43622023            ARTS   \n",
       "3                               Web Designer   18979238        DESIGNER   \n",
       "4                              Web Developer   62994611     AGRICULTURE   \n",
       "\n",
       "   Similarity Score  \n",
       "0          0.941542  \n",
       "1          0.923647  \n",
       "2          0.959810  \n",
       "3          0.948679  \n",
       "4          0.950087  "
      ]
     },
     "execution_count": 16,
     "metadata": {},
     "output_type": "execute_result"
    }
   ],
   "source": [
    "selected_jd_indices = [0, 1, 2, 3, 4]\n",
    "\n",
    "top_data = []\n",
    "\n",
    "for jd_index in selected_jd_indices:\n",
    "    # Top matching resume for this JD\n",
    "    top_resume_index, top_score = top_candidates[jd_index][0]\n",
    "    \n",
    "    # Extract resume details\n",
    "    resume_id = cv_df['ID'][top_resume_index]\n",
    "    resume_cat = cv_df['Category'][top_resume_index]\n",
    "    \n",
    "    top_data.append({\n",
    "        \"JD Title\": jd_df['position_title'][jd_index],\n",
    "        \"Resume ID\": resume_id,\n",
    "        \"Resume Category\": resume_cat,\n",
    "        \"Similarity Score\": top_score\n",
    "    })\n",
    "\n",
    "top_resumes_df = pd.DataFrame(top_data)\n",
    "top_resumes_df\n",
    "# print(top_resumes_df)\n"
   ]
  },
  {
   "cell_type": "code",
   "execution_count": 17,
   "id": "c3b70c5f",
   "metadata": {},
   "outputs": [
    {
     "name": "stdout",
     "output_type": "stream",
     "text": [
      "                                    JD Title  Average Top-10 Score\n",
      "0                           Sales Specialist                0.9328\n",
      "1                 Apple Solutions Consultant                0.9118\n",
      "2  Licensing Coordinator - Consumer Products                0.9444\n",
      "3                               Web Designer                0.9360\n",
      "4                              Web Developer                0.9395\n"
     ]
    }
   ],
   "source": [
    "avg_top10_scores = []\n",
    "\n",
    "for jd_index in selected_jd_indices:\n",
    "    top_10 = top_candidates[jd_index][:10]\n",
    "    \n",
    "    scores = [score for _, score in top_10]\n",
    "    \n",
    "    avg_score = sum(scores) / len(scores)\n",
    "    \n",
    "    avg_top10_scores.append({\n",
    "        \"JD Title\": jd_df['position_title'][jd_index],\n",
    "        \"Average Top-10 Score\": round(avg_score, 4)\n",
    "    })\n",
    "\n",
    "avg_top10_df = pd.DataFrame(avg_top10_scores)\n",
    "\n",
    "print(avg_top10_df)"
   ]
  },
  {
   "cell_type": "code",
   "execution_count": null,
   "id": "ccb7f0ce",
   "metadata": {},
   "outputs": [
    {
     "data": {
      "text/html": [
       "<div>\n",
       "<style scoped>\n",
       "    .dataframe tbody tr th:only-of-type {\n",
       "        vertical-align: middle;\n",
       "    }\n",
       "\n",
       "    .dataframe tbody tr th {\n",
       "        vertical-align: top;\n",
       "    }\n",
       "\n",
       "    .dataframe thead th {\n",
       "        text-align: right;\n",
       "    }\n",
       "</style>\n",
       "<table border=\"1\" class=\"dataframe\">\n",
       "  <thead>\n",
       "    <tr style=\"text-align: right;\">\n",
       "      <th></th>\n",
       "      <th>Sales Specialist</th>\n",
       "      <th>Apple Solutions Consultant</th>\n",
       "      <th>Licensing Coordinator - Consumer Products</th>\n",
       "      <th>Web Designer</th>\n",
       "      <th>Web Developer</th>\n",
       "    </tr>\n",
       "  </thead>\n",
       "  <tbody>\n",
       "    <tr>\n",
       "      <th>ACCOUNTANT/75286906</th>\n",
       "      <td>0.8135</td>\n",
       "      <td>0.7728</td>\n",
       "      <td>0.8022</td>\n",
       "      <td>0.8393</td>\n",
       "      <td>0.8198</td>\n",
       "    </tr>\n",
       "    <tr>\n",
       "      <th>FITNESS/27974588</th>\n",
       "      <td>0.5128</td>\n",
       "      <td>0.5518</td>\n",
       "      <td>0.4806</td>\n",
       "      <td>0.5255</td>\n",
       "      <td>0.5242</td>\n",
       "    </tr>\n",
       "    <tr>\n",
       "      <th>ADVOCATE/14445309</th>\n",
       "      <td>0.7893</td>\n",
       "      <td>0.7413</td>\n",
       "      <td>0.7874</td>\n",
       "      <td>0.8238</td>\n",
       "      <td>0.7958</td>\n",
       "    </tr>\n",
       "    <tr>\n",
       "      <th>INFORMATION-TECHNOLOGY/29975124</th>\n",
       "      <td>0.7962</td>\n",
       "      <td>0.7672</td>\n",
       "      <td>0.7652</td>\n",
       "      <td>0.8079</td>\n",
       "      <td>0.8051</td>\n",
       "    </tr>\n",
       "    <tr>\n",
       "      <th>CONSTRUCTION/30397268</th>\n",
       "      <td>0.7297</td>\n",
       "      <td>0.7406</td>\n",
       "      <td>0.7239</td>\n",
       "      <td>0.7714</td>\n",
       "      <td>0.7602</td>\n",
       "    </tr>\n",
       "    <tr>\n",
       "      <th>HR/22323967</th>\n",
       "      <td>0.7436</td>\n",
       "      <td>0.7491</td>\n",
       "      <td>0.7404</td>\n",
       "      <td>0.7734</td>\n",
       "      <td>0.7574</td>\n",
       "    </tr>\n",
       "    <tr>\n",
       "      <th>HEALTHCARE/24025053</th>\n",
       "      <td>0.7677</td>\n",
       "      <td>0.7383</td>\n",
       "      <td>0.7625</td>\n",
       "      <td>0.7936</td>\n",
       "      <td>0.7885</td>\n",
       "    </tr>\n",
       "    <tr>\n",
       "      <th>BUSINESS-DEVELOPMENT/12546838</th>\n",
       "      <td>0.4016</td>\n",
       "      <td>0.4402</td>\n",
       "      <td>0.3852</td>\n",
       "      <td>0.4247</td>\n",
       "      <td>0.4097</td>\n",
       "    </tr>\n",
       "    <tr>\n",
       "      <th>HEALTHCARE/23944036</th>\n",
       "      <td>0.7590</td>\n",
       "      <td>0.7608</td>\n",
       "      <td>0.7582</td>\n",
       "      <td>0.8090</td>\n",
       "      <td>0.7893</td>\n",
       "    </tr>\n",
       "    <tr>\n",
       "      <th>DESIGNER/25023614</th>\n",
       "      <td>0.8066</td>\n",
       "      <td>0.8309</td>\n",
       "      <td>0.7927</td>\n",
       "      <td>0.8270</td>\n",
       "      <td>0.8180</td>\n",
       "    </tr>\n",
       "  </tbody>\n",
       "</table>\n",
       "</div>"
      ],
      "text/plain": [
       "                                 Sales Specialist  Apple Solutions Consultant  \\\n",
       "ACCOUNTANT/75286906                        0.8135                      0.7728   \n",
       "FITNESS/27974588                           0.5128                      0.5518   \n",
       "ADVOCATE/14445309                          0.7893                      0.7413   \n",
       "INFORMATION-TECHNOLOGY/29975124            0.7962                      0.7672   \n",
       "CONSTRUCTION/30397268                      0.7297                      0.7406   \n",
       "HR/22323967                                0.7436                      0.7491   \n",
       "HEALTHCARE/24025053                        0.7677                      0.7383   \n",
       "BUSINESS-DEVELOPMENT/12546838              0.4016                      0.4402   \n",
       "HEALTHCARE/23944036                        0.7590                      0.7608   \n",
       "DESIGNER/25023614                          0.8066                      0.8309   \n",
       "\n",
       "                                 Licensing Coordinator - Consumer Products  \\\n",
       "ACCOUNTANT/75286906                                                 0.8022   \n",
       "FITNESS/27974588                                                    0.4806   \n",
       "ADVOCATE/14445309                                                   0.7874   \n",
       "INFORMATION-TECHNOLOGY/29975124                                     0.7652   \n",
       "CONSTRUCTION/30397268                                               0.7239   \n",
       "HR/22323967                                                         0.7404   \n",
       "HEALTHCARE/24025053                                                 0.7625   \n",
       "BUSINESS-DEVELOPMENT/12546838                                       0.3852   \n",
       "HEALTHCARE/23944036                                                 0.7582   \n",
       "DESIGNER/25023614                                                   0.7927   \n",
       "\n",
       "                                 Web Designer  Web Developer  \n",
       "ACCOUNTANT/75286906                    0.8393         0.8198  \n",
       "FITNESS/27974588                       0.5255         0.5242  \n",
       "ADVOCATE/14445309                      0.8238         0.7958  \n",
       "INFORMATION-TECHNOLOGY/29975124        0.8079         0.8051  \n",
       "CONSTRUCTION/30397268                  0.7714         0.7602  \n",
       "HR/22323967                            0.7734         0.7574  \n",
       "HEALTHCARE/24025053                    0.7936         0.7885  \n",
       "BUSINESS-DEVELOPMENT/12546838          0.4247         0.4097  \n",
       "HEALTHCARE/23944036                    0.8090         0.7893  \n",
       "DESIGNER/25023614                      0.8270         0.8180  "
      ]
     },
     "execution_count": 19,
     "metadata": {},
     "output_type": "execute_result"
    }
   ],
   "source": [
    "# Fixed selections\n",
    "selected_jd_indices = [0, 1, 2, 3, 4]\n",
    "selected_resume_indices = [1160, 1799, 2112, 1268, 1430, 1360, 713, 1944, 663, 1551]\n",
    "\n",
    "# Initialize matrix\n",
    "distilbert_matrix = []\n",
    "\n",
    "for resume_idx in selected_resume_indices:\n",
    "    row = []\n",
    "    for jd_idx in selected_jd_indices:\n",
    "        sim_score = similarity_scores[jd_idx][resume_idx]\n",
    "        row.append(round(sim_score, 4))\n",
    "    distilbert_matrix.append(row)\n",
    "\n",
    "# Prepare column & row labels\n",
    "jd_titles = [jd_df[\"position_title\"][i] for i in selected_jd_indices]\n",
    "resume_labels = [f\"{cv_df['Category'][i]}/{cv_df['ID'][i]}\" for i in selected_resume_indices]\n",
    "\n",
    "# Create DataFrame\n",
    "distilbert_df = pd.DataFrame(distilbert_matrix, index=resume_labels, columns=jd_titles)\n",
    "distilbert_df\n"
   ]
  },
  {
   "cell_type": "code",
   "execution_count": null,
   "id": "bb7db591",
   "metadata": {},
   "outputs": [],
   "source": []
  }
 ],
 "metadata": {
  "kernelspec": {
   "display_name": ".venv",
   "language": "python",
   "name": "python3"
  },
  "language_info": {
   "codemirror_mode": {
    "name": "ipython",
    "version": 3
   },
   "file_extension": ".py",
   "mimetype": "text/x-python",
   "name": "python",
   "nbconvert_exporter": "python",
   "pygments_lexer": "ipython3",
   "version": "3.10.17"
  },
  "widgets": {
   "application/vnd.jupyter.widget-state+json": {
    "state": {},
    "version_major": 2,
    "version_minor": 0
   }
  }
 },
 "nbformat": 4,
 "nbformat_minor": 5
}

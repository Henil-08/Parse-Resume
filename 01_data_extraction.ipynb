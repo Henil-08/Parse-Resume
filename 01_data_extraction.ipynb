{
 "cells": [
  {
   "cell_type": "markdown",
   "metadata": {},
   "source": [
    "## Data Extraction\n",
    "### This Notebook focuses on extracting skills and education from the PDFs and storing them as a csv\n"
   ]
  },
  {
   "cell_type": "code",
   "execution_count": 1,
   "metadata": {},
   "outputs": [],
   "source": [
    "# Imports\n",
    "import os\n",
    "import re\n",
    "import pdfplumber\n",
    "import pandas as pd\n",
    "import numpy as np\n",
    "import matplotlib.pyplot as plt"
   ]
  },
  {
   "cell_type": "code",
   "execution_count": 2,
   "metadata": {},
   "outputs": [],
   "source": [
    "import logging\n",
    "logging.getLogger(\"pdfminer\").setLevel(logging.ERROR)"
   ]
  },
  {
   "cell_type": "code",
   "execution_count": 3,
   "metadata": {},
   "outputs": [],
   "source": [
    "# Define a function to extract information from a PDF\n",
    "def extract_information(pdf_path):\n",
    "    \"\"\"\n",
    "    Extracts text from a PDF file and returns it as a string.\n",
    "    Args:\n",
    "        pdf_path (str): The path to the PDF file.\n",
    "    Returns:\n",
    "        str: The extracted text from the PDF.\n",
    "    \"\"\"\n",
    "    \n",
    "    with pdfplumber.open(pdf_path) as pdf:\n",
    "        resume_text = \"\"\n",
    "        for page in pdf.pages:\n",
    "            resume_text = \" \".join([resume_text, page.extract_text()])\n",
    "    resume_text = resume_text.strip()\n",
    "    return resume_text"
   ]
  },
  {
   "cell_type": "code",
   "execution_count": 4,
   "metadata": {},
   "outputs": [],
   "source": [
    "# Define a function to extract Skills, and Education\n",
    "def extract_details(resume_text):\n",
    "    \"\"\"\n",
    "    Extracts Skills and Education from the resume text.\n",
    "    Args:\n",
    "        resume_text (str): The text of the resume.\n",
    "    Returns:\n",
    "        dict: A dictionary containing the extracted Skills and Education.\n",
    "    \"\"\"\n",
    "    \n",
    "    # Define regular expressions to extract Skills & Education\n",
    "    skills_pattern = r'Skills\\n([\\s\\S]*?)(?=\\n[A-Z]|$)' \n",
    "    education_pattern = r'Education\\n([\\s\\S]*?)(?=\\n[A-Z][a-z]*\\n|$)'\n",
    "    \n",
    "    # Get Skills & Education\n",
    "    skills_match = re.findall(skills_pattern, resume_text, re.DOTALL)\n",
    "    education_match = re.findall(education_pattern, resume_text, re.DOTALL)\n",
    "    \n",
    "    # Skills & Education\n",
    "    if len(skills_match)!=0:\n",
    "        skills = skills_match[0]\n",
    "    else:\n",
    "        skills_pattern = r'skills\\n((?:.*)*)' \n",
    "        skills_match = re.findall(skills_pattern, resume_text, re.DOTALL)\n",
    "        if len(skills_match)!=0:\n",
    "            skills = skills_match[0]\n",
    "        else:\n",
    "            skills = None\n",
    "            \n",
    "    if len(education_match)!=0:\n",
    "        education = education_match[0]\n",
    "    else:\n",
    "        education = None\n",
    "    \n",
    "    return {\n",
    "        'Skills': skills,\n",
    "        'Education': education\n",
    "    }"
   ]
  },
  {
   "cell_type": "code",
   "execution_count": 5,
   "metadata": {},
   "outputs": [
    {
     "name": "stdout",
     "output_type": "stream",
     "text": [
      "PDF Extraction Done!\n",
      "CPU times: user 9min 53s, sys: 3.61 s, total: 9min 56s\n",
      "Wall time: 10min 4s\n"
     ]
    }
   ],
   "source": [
    "%%time\n",
    "\n",
    "data_folder = 'data'\n",
    "resume_data = []\n",
    "\n",
    "# Iterate through sub-folders and PDF files\n",
    "for category_folder in os.listdir(data_folder):\n",
    "    category_path = os.path.join(data_folder, category_folder)\n",
    "    if os.path.isdir(category_path):\n",
    "        for pdf_file in os.listdir(category_path):\n",
    "            if pdf_file.endswith('.pdf'):\n",
    "                pdf_path = os.path.join(category_path, pdf_file)\n",
    "                # print(pdf_path)\n",
    "                text = extract_information(pdf_path)\n",
    "                details = extract_details(text)\n",
    "                \n",
    "                # Adding Category & ID\n",
    "                details['ID'] = pdf_file.replace('.pdf', '')\n",
    "                details['Category'] = category_folder\n",
    "                \n",
    "                # print(f'File: [{pdf_path}]')\n",
    "                # print(details, end='\\n\\n')\n",
    "                resume_data.append(details)\n",
    "                \n",
    "print('PDF Extraction Done!')"
   ]
  },
  {
   "cell_type": "code",
   "execution_count": 6,
   "metadata": {},
   "outputs": [],
   "source": [
    "resume_df = pd.DataFrame(resume_data)\n",
    "resume_df.to_csv('data/extracted_resume.csv', index=False)"
   ]
  },
  {
   "cell_type": "code",
   "execution_count": 7,
   "metadata": {},
   "outputs": [
    {
     "data": {
      "text/plain": [
       "(2484, 4)"
      ]
     },
     "execution_count": 7,
     "metadata": {},
     "output_type": "execute_result"
    }
   ],
   "source": [
    "resume_df.shape"
   ]
  },
  {
   "cell_type": "markdown",
   "metadata": {},
   "source": [
    "### Checking Null Values"
   ]
  },
  {
   "cell_type": "code",
   "execution_count": 8,
   "metadata": {},
   "outputs": [
    {
     "data": {
      "text/plain": [
       "Skills        91\n",
       "Education    590\n",
       "ID             0\n",
       "Category       0\n",
       "dtype: int64"
      ]
     },
     "execution_count": 8,
     "metadata": {},
     "output_type": "execute_result"
    }
   ],
   "source": [
    "# Null values\n",
    "resume_df.isna().sum()"
   ]
  },
  {
   "cell_type": "markdown",
   "metadata": {},
   "source": [
    "Looks like Education was not extracted properly "
   ]
  },
  {
   "cell_type": "code",
   "execution_count": 9,
   "metadata": {},
   "outputs": [
    {
     "name": "stdout",
     "output_type": "stream",
     "text": [
      "     Skills Education        ID                Category\n",
      "141    None      None  14248724                    ARTS\n",
      "261    None      None  16280971                   SALES\n",
      "658    None      None  15499825              HEALTHCARE\n",
      "1201   None      None  29051656  INFORMATION-TECHNOLOGY\n",
      "1298   None      None  20237244  INFORMATION-TECHNOLOGY\n",
      "1525   None      None  14849103            CONSTRUCTION\n",
      "1554   None      None  14014749                DESIGNER\n",
      "1607   None      None  90066849                DESIGNER\n",
      "1758   None      None  17576030                 FITNESS\n",
      "1760   None      None  21178545                 FITNESS\n",
      "1828   None      None  77266989                 FITNESS\n",
      "1934   None      None  12632728    BUSINESS-DEVELOPMENT\n",
      "2082   None      None  31225895                 APPAREL\n",
      "2183   None      None  17021141                ADVOCATE\n",
      "2388   None      None  20566550             ENGINEERING\n"
     ]
    }
   ],
   "source": [
    "print(resume_df[(resume_df.Skills.isna() & resume_df.Education.isna())])"
   ]
  },
  {
   "cell_type": "code",
   "execution_count": 10,
   "metadata": {},
   "outputs": [
    {
     "name": "stdout",
     "output_type": "stream",
     "text": [
      "(2469, 4)\n"
     ]
    }
   ],
   "source": [
    "print(resume_df[~(resume_df['Skills'].isna() & resume_df['Education'].isna())].shape)"
   ]
  },
  {
   "cell_type": "markdown",
   "metadata": {},
   "source": [
    "Removing PDFs with both Skills and Education as NA"
   ]
  },
  {
   "cell_type": "code",
   "execution_count": 11,
   "metadata": {},
   "outputs": [],
   "source": [
    "df = resume_df[~(resume_df['Skills'].isna() & resume_df['Education'].isna())].reset_index(drop=True)"
   ]
  },
  {
   "cell_type": "code",
   "execution_count": 12,
   "metadata": {},
   "outputs": [
    {
     "data": {
      "text/html": [
       "<div>\n",
       "<style scoped>\n",
       "    .dataframe tbody tr th:only-of-type {\n",
       "        vertical-align: middle;\n",
       "    }\n",
       "\n",
       "    .dataframe tbody tr th {\n",
       "        vertical-align: top;\n",
       "    }\n",
       "\n",
       "    .dataframe thead th {\n",
       "        text-align: right;\n",
       "    }\n",
       "</style>\n",
       "<table border=\"1\" class=\"dataframe\">\n",
       "  <thead>\n",
       "    <tr style=\"text-align: right;\">\n",
       "      <th></th>\n",
       "      <th>Skills</th>\n",
       "      <th>Education</th>\n",
       "      <th>ID</th>\n",
       "      <th>Category</th>\n",
       "    </tr>\n",
       "  </thead>\n",
       "  <tbody>\n",
       "    <tr>\n",
       "      <th>0</th>\n",
       "      <td>Excellent classroom managementÂ</td>\n",
       "      <td>Subject Matter Authorization in Science: Scien...</td>\n",
       "      <td>37201447</td>\n",
       "      <td>AGRICULTURE</td>\n",
       "    </tr>\n",
       "    <tr>\n",
       "      <th>1</th>\n",
       "      <td>Team mediation, Budget Management, Delegation ...</td>\n",
       "      <td>2009 Howard University ï¼​ City , State , USA ...</td>\n",
       "      <td>12674256</td>\n",
       "      <td>AGRICULTURE</td>\n",
       "    </tr>\n",
       "    <tr>\n",
       "      <th>2</th>\n",
       "      <td>COMPUTER LITERACY, E-mail, English, government...</td>\n",
       "      <td>2011\\nThe Universty of Zambia ï¼​ City , State...</td>\n",
       "      <td>29968330</td>\n",
       "      <td>AGRICULTURE</td>\n",
       "    </tr>\n",
       "    <tr>\n",
       "      <th>3</th>\n",
       "      <td>C, C++, communication skills, designing, ELISA...</td>\n",
       "      <td>Masters of Science , Biotechnology 5 2013 Univ...</td>\n",
       "      <td>81042872</td>\n",
       "      <td>AGRICULTURE</td>\n",
       "    </tr>\n",
       "    <tr>\n",
       "      <th>4</th>\n",
       "      <td>Data Entry, Printers, Clients, Loans, Tax Retu...</td>\n",
       "      <td>Wayne State University 2013 MBA : Linguistics ...</td>\n",
       "      <td>20006992</td>\n",
       "      <td>AGRICULTURE</td>\n",
       "    </tr>\n",
       "  </tbody>\n",
       "</table>\n",
       "</div>"
      ],
      "text/plain": [
       "                                              Skills  \\\n",
       "0                    Excellent classroom managementÂ   \n",
       "1  Team mediation, Budget Management, Delegation ...   \n",
       "2  COMPUTER LITERACY, E-mail, English, government...   \n",
       "3  C, C++, communication skills, designing, ELISA...   \n",
       "4  Data Entry, Printers, Clients, Loans, Tax Retu...   \n",
       "\n",
       "                                           Education        ID     Category  \n",
       "0  Subject Matter Authorization in Science: Scien...  37201447  AGRICULTURE  \n",
       "1  2009 Howard University ï¼​ City , State , USA ...  12674256  AGRICULTURE  \n",
       "2  2011\\nThe Universty of Zambia ï¼​ City , State...  29968330  AGRICULTURE  \n",
       "3  Masters of Science , Biotechnology 5 2013 Univ...  81042872  AGRICULTURE  \n",
       "4  Wayne State University 2013 MBA : Linguistics ...  20006992  AGRICULTURE  "
      ]
     },
     "execution_count": 12,
     "metadata": {},
     "output_type": "execute_result"
    }
   ],
   "source": [
    "df.head()"
   ]
  },
  {
   "cell_type": "code",
   "execution_count": 13,
   "metadata": {},
   "outputs": [
    {
     "data": {
      "text/plain": [
       "Skills        76\n",
       "Education    575\n",
       "ID             0\n",
       "Category       0\n",
       "dtype: int64"
      ]
     },
     "execution_count": 13,
     "metadata": {},
     "output_type": "execute_result"
    }
   ],
   "source": [
    "df.isna().sum()"
   ]
  },
  {
   "cell_type": "code",
   "execution_count": 14,
   "metadata": {},
   "outputs": [
    {
     "data": {
      "text/html": [
       "<div>\n",
       "<style scoped>\n",
       "    .dataframe tbody tr th:only-of-type {\n",
       "        vertical-align: middle;\n",
       "    }\n",
       "\n",
       "    .dataframe tbody tr th {\n",
       "        vertical-align: top;\n",
       "    }\n",
       "\n",
       "    .dataframe thead th {\n",
       "        text-align: right;\n",
       "    }\n",
       "</style>\n",
       "<table border=\"1\" class=\"dataframe\">\n",
       "  <thead>\n",
       "    <tr style=\"text-align: right;\">\n",
       "      <th></th>\n",
       "      <th>Skills</th>\n",
       "      <th>Education</th>\n",
       "      <th>ID</th>\n",
       "      <th>Category</th>\n",
       "    </tr>\n",
       "  </thead>\n",
       "  <tbody>\n",
       "    <tr>\n",
       "      <th>34</th>\n",
       "      <td>None</td>\n",
       "      <td>Bachelor of Arts : Criminal Justice California...</td>\n",
       "      <td>27689009</td>\n",
       "      <td>AGRICULTURE</td>\n",
       "    </tr>\n",
       "    <tr>\n",
       "      <th>51</th>\n",
       "      <td>None</td>\n",
       "      <td>Ph.D : Soil, Water and Environmental Science 2...</td>\n",
       "      <td>24001783</td>\n",
       "      <td>AGRICULTURE</td>\n",
       "    </tr>\n",
       "    <tr>\n",
       "      <th>61</th>\n",
       "      <td>None</td>\n",
       "      <td>Master : Accounting (GPA 3.7) , 2009 McCombs S...</td>\n",
       "      <td>56068028</td>\n",
       "      <td>AGRICULTURE</td>\n",
       "    </tr>\n",
       "    <tr>\n",
       "      <th>69</th>\n",
       "      <td>None</td>\n",
       "      <td>2014\\nBachelor of Science : Recording Arts Ful...</td>\n",
       "      <td>66226673</td>\n",
       "      <td>ARTS</td>\n",
       "    </tr>\n",
       "    <tr>\n",
       "      <th>80</th>\n",
       "      <td>None</td>\n",
       "      <td>Association Youth Art Month Exhibition, Young ...</td>\n",
       "      <td>11555549</td>\n",
       "      <td>ARTS</td>\n",
       "    </tr>\n",
       "    <tr>\n",
       "      <th>...</th>\n",
       "      <td>...</td>\n",
       "      <td>...</td>\n",
       "      <td>...</td>\n",
       "      <td>...</td>\n",
       "    </tr>\n",
       "    <tr>\n",
       "      <th>2331</th>\n",
       "      <td>None</td>\n",
       "      <td>Bachelor of Science : Electrical and Computer ...</td>\n",
       "      <td>12748557</td>\n",
       "      <td>ENGINEERING</td>\n",
       "    </tr>\n",
       "    <tr>\n",
       "      <th>2346</th>\n",
       "      <td>None</td>\n",
       "      <td>Ph. D : Mechanical Engineering , April, 2015 U...</td>\n",
       "      <td>35172961</td>\n",
       "      <td>ENGINEERING</td>\n",
       "    </tr>\n",
       "    <tr>\n",
       "      <th>2362</th>\n",
       "      <td>None</td>\n",
       "      <td>Graduate Certificate : Project Management 2010...</td>\n",
       "      <td>28631840</td>\n",
       "      <td>ENGINEERING</td>\n",
       "    </tr>\n",
       "    <tr>\n",
       "      <th>2371</th>\n",
       "      <td>None</td>\n",
       "      <td>Master of Science : Mechanical Engineering Dec...</td>\n",
       "      <td>77828437</td>\n",
       "      <td>ENGINEERING</td>\n",
       "    </tr>\n",
       "    <tr>\n",
       "      <th>2449</th>\n",
       "      <td>None</td>\n",
       "      <td>Associate of Arts , Business Management 2010 U...</td>\n",
       "      <td>17571262</td>\n",
       "      <td>AUTOMOBILE</td>\n",
       "    </tr>\n",
       "  </tbody>\n",
       "</table>\n",
       "<p>76 rows × 4 columns</p>\n",
       "</div>"
      ],
      "text/plain": [
       "     Skills                                          Education        ID  \\\n",
       "34     None  Bachelor of Arts : Criminal Justice California...  27689009   \n",
       "51     None  Ph.D : Soil, Water and Environmental Science 2...  24001783   \n",
       "61     None  Master : Accounting (GPA 3.7) , 2009 McCombs S...  56068028   \n",
       "69     None  2014\\nBachelor of Science : Recording Arts Ful...  66226673   \n",
       "80     None  Association Youth Art Month Exhibition, Young ...  11555549   \n",
       "...     ...                                                ...       ...   \n",
       "2331   None  Bachelor of Science : Electrical and Computer ...  12748557   \n",
       "2346   None  Ph. D : Mechanical Engineering , April, 2015 U...  35172961   \n",
       "2362   None  Graduate Certificate : Project Management 2010...  28631840   \n",
       "2371   None  Master of Science : Mechanical Engineering Dec...  77828437   \n",
       "2449   None  Associate of Arts , Business Management 2010 U...  17571262   \n",
       "\n",
       "         Category  \n",
       "34    AGRICULTURE  \n",
       "51    AGRICULTURE  \n",
       "61    AGRICULTURE  \n",
       "69           ARTS  \n",
       "80           ARTS  \n",
       "...           ...  \n",
       "2331  ENGINEERING  \n",
       "2346  ENGINEERING  \n",
       "2362  ENGINEERING  \n",
       "2371  ENGINEERING  \n",
       "2449   AUTOMOBILE  \n",
       "\n",
       "[76 rows x 4 columns]"
      ]
     },
     "execution_count": 14,
     "metadata": {},
     "output_type": "execute_result"
    }
   ],
   "source": [
    "df[df.Skills.isna()]"
   ]
  },
  {
   "cell_type": "code",
   "execution_count": 15,
   "metadata": {},
   "outputs": [
    {
     "data": {
      "text/html": [
       "<div>\n",
       "<style scoped>\n",
       "    .dataframe tbody tr th:only-of-type {\n",
       "        vertical-align: middle;\n",
       "    }\n",
       "\n",
       "    .dataframe tbody tr th {\n",
       "        vertical-align: top;\n",
       "    }\n",
       "\n",
       "    .dataframe thead th {\n",
       "        text-align: right;\n",
       "    }\n",
       "</style>\n",
       "<table border=\"1\" class=\"dataframe\">\n",
       "  <thead>\n",
       "    <tr style=\"text-align: right;\">\n",
       "      <th></th>\n",
       "      <th>Skills</th>\n",
       "      <th>Education</th>\n",
       "      <th>ID</th>\n",
       "      <th>Category</th>\n",
       "    </tr>\n",
       "  </thead>\n",
       "  <tbody>\n",
       "    <tr>\n",
       "      <th>12</th>\n",
       "      <td>Time Management</td>\n",
       "      <td>None</td>\n",
       "      <td>28165687</td>\n",
       "      <td>AGRICULTURE</td>\n",
       "    </tr>\n",
       "    <tr>\n",
       "      <th>16</th>\n",
       "      <td>Deep expertise in designing,developing,\\nimple...</td>\n",
       "      <td>None</td>\n",
       "      <td>11813872</td>\n",
       "      <td>AGRICULTURE</td>\n",
       "    </tr>\n",
       "    <tr>\n",
       "      <th>22</th>\n",
       "      <td>Customer service, art, clerical, doors, specia...</td>\n",
       "      <td>None</td>\n",
       "      <td>79536879</td>\n",
       "      <td>AGRICULTURE</td>\n",
       "    </tr>\n",
       "    <tr>\n",
       "      <th>29</th>\n",
       "      <td>Production and Processing Â Basic computer skills</td>\n",
       "      <td>None</td>\n",
       "      <td>16849128</td>\n",
       "      <td>AGRICULTURE</td>\n",
       "    </tr>\n",
       "    <tr>\n",
       "      <th>31</th>\n",
       "      <td>Strong interpersonal skills</td>\n",
       "      <td>None</td>\n",
       "      <td>38216888</td>\n",
       "      <td>AGRICULTURE</td>\n",
       "    </tr>\n",
       "    <tr>\n",
       "      <th>...</th>\n",
       "      <td>...</td>\n",
       "      <td>...</td>\n",
       "      <td>...</td>\n",
       "      <td>...</td>\n",
       "    </tr>\n",
       "    <tr>\n",
       "      <th>2458</th>\n",
       "      <td>vehicle repairs, database, inventory, marketin...</td>\n",
       "      <td>None</td>\n",
       "      <td>16332293</td>\n",
       "      <td>AUTOMOBILE</td>\n",
       "    </tr>\n",
       "    <tr>\n",
       "      <th>2460</th>\n",
       "      <td>Professional and friendly.Careful and active l...</td>\n",
       "      <td>None</td>\n",
       "      <td>23522150</td>\n",
       "      <td>AUTOMOBILE</td>\n",
       "    </tr>\n",
       "    <tr>\n",
       "      <th>2464</th>\n",
       "      <td>Claims file management processes</td>\n",
       "      <td>None</td>\n",
       "      <td>11257723</td>\n",
       "      <td>AUTOMOBILE</td>\n",
       "    </tr>\n",
       "    <tr>\n",
       "      <th>2465</th>\n",
       "      <td>Quality control Solid communication skills</td>\n",
       "      <td>None</td>\n",
       "      <td>11797122</td>\n",
       "      <td>AUTOMOBILE</td>\n",
       "    </tr>\n",
       "    <tr>\n",
       "      <th>2466</th>\n",
       "      <td>3D, assembly language, AutoCAD, automobiles, C...</td>\n",
       "      <td>None</td>\n",
       "      <td>22946204</td>\n",
       "      <td>AUTOMOBILE</td>\n",
       "    </tr>\n",
       "  </tbody>\n",
       "</table>\n",
       "<p>575 rows × 4 columns</p>\n",
       "</div>"
      ],
      "text/plain": [
       "                                                 Skills Education        ID  \\\n",
       "12                                      Time Management      None  28165687   \n",
       "16    Deep expertise in designing,developing,\\nimple...      None  11813872   \n",
       "22    Customer service, art, clerical, doors, specia...      None  79536879   \n",
       "29    Production and Processing Â Basic computer skills      None  16849128   \n",
       "31                          Strong interpersonal skills      None  38216888   \n",
       "...                                                 ...       ...       ...   \n",
       "2458  vehicle repairs, database, inventory, marketin...      None  16332293   \n",
       "2460  Professional and friendly.Careful and active l...      None  23522150   \n",
       "2464                   Claims file management processes      None  11257723   \n",
       "2465         Quality control Solid communication skills      None  11797122   \n",
       "2466  3D, assembly language, AutoCAD, automobiles, C...      None  22946204   \n",
       "\n",
       "         Category  \n",
       "12    AGRICULTURE  \n",
       "16    AGRICULTURE  \n",
       "22    AGRICULTURE  \n",
       "29    AGRICULTURE  \n",
       "31    AGRICULTURE  \n",
       "...           ...  \n",
       "2458   AUTOMOBILE  \n",
       "2460   AUTOMOBILE  \n",
       "2464   AUTOMOBILE  \n",
       "2465   AUTOMOBILE  \n",
       "2466   AUTOMOBILE  \n",
       "\n",
       "[575 rows x 4 columns]"
      ]
     },
     "execution_count": 15,
     "metadata": {},
     "output_type": "execute_result"
    }
   ],
   "source": [
    "df[df.Education.isna()]"
   ]
  },
  {
   "cell_type": "code",
   "execution_count": 16,
   "metadata": {},
   "outputs": [
    {
     "data": {
      "text/plain": [
       "Category\n",
       "BUSINESS-DEVELOPMENT      119\n",
       "ACCOUNTANT                118\n",
       "FINANCE                   118\n",
       "CHEF                      118\n",
       "INFORMATION-TECHNOLOGY    118\n",
       "AVIATION                  117\n",
       "ADVOCATE                  117\n",
       "ENGINEERING               117\n",
       "BANKING                   115\n",
       "CONSULTANT                115\n",
       "SALES                     115\n",
       "HEALTHCARE                114\n",
       "FITNESS                   114\n",
       "PUBLIC-RELATIONS          111\n",
       "CONSTRUCTION              111\n",
       "HR                        110\n",
       "DESIGNER                  105\n",
       "TEACHER                   102\n",
       "ARTS                      102\n",
       "DIGITAL-MEDIA              96\n",
       "APPAREL                    96\n",
       "AGRICULTURE                63\n",
       "AUTOMOBILE                 36\n",
       "BPO                        22\n",
       "Name: count, dtype: int64"
      ]
     },
     "execution_count": 16,
     "metadata": {},
     "output_type": "execute_result"
    }
   ],
   "source": [
    "df.Category.value_counts()"
   ]
  },
  {
   "cell_type": "code",
   "execution_count": null,
   "metadata": {},
   "outputs": [],
   "source": []
  }
 ],
 "metadata": {
  "kernelspec": {
   "display_name": ".venv",
   "language": "python",
   "name": "python3"
  },
  "language_info": {
   "codemirror_mode": {
    "name": "ipython",
    "version": 3
   },
   "file_extension": ".py",
   "mimetype": "text/x-python",
   "name": "python",
   "nbconvert_exporter": "python",
   "pygments_lexer": "ipython3",
   "version": "3.10.17"
  }
 },
 "nbformat": 4,
 "nbformat_minor": 2
}
